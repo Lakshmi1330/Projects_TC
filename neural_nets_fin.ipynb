{
  "cells": [
    {
      "cell_type": "code",
      "execution_count": null,
      "metadata": {
        "id": "tAJBmxECeQxt"
      },
      "outputs": [],
      "source": [
        "import numpy as np\n",
        "import pandas as pd\n",
        "import matplotlib.pyplot as plt"
      ]
    },
    {
      "cell_type": "code",
      "execution_count": null,
      "metadata": {
        "id": "goZ5TeumeiNP"
      },
      "outputs": [],
      "source": [
        "df=pd.read_csv(\"/content/Churn_Modelling (1).csv\")"
      ]
    },
    {
      "cell_type": "code",
      "execution_count": null,
      "metadata": {
        "colab": {
          "base_uri": "https://localhost:8080/"
        },
        "id": "3MsJUyASg98K",
        "outputId": "3039ea57-750b-4fd9-ee25-44d3d1727857"
      },
      "outputs": [
        {
          "output_type": "stream",
          "name": "stdout",
          "text": [
            "<class 'pandas.core.frame.DataFrame'>\n",
            "RangeIndex: 10000 entries, 0 to 9999\n",
            "Data columns (total 14 columns):\n",
            " #   Column           Non-Null Count  Dtype  \n",
            "---  ------           --------------  -----  \n",
            " 0   RowNumber        10000 non-null  int64  \n",
            " 1   CustomerId       10000 non-null  int64  \n",
            " 2   Surname          10000 non-null  object \n",
            " 3   CreditScore      10000 non-null  int64  \n",
            " 4   Geography        10000 non-null  object \n",
            " 5   Gender           10000 non-null  object \n",
            " 6   Age              10000 non-null  int64  \n",
            " 7   Tenure           10000 non-null  int64  \n",
            " 8   Balance          10000 non-null  float64\n",
            " 9   NumOfProducts    10000 non-null  int64  \n",
            " 10  HasCrCard        10000 non-null  int64  \n",
            " 11  IsActiveMember   10000 non-null  int64  \n",
            " 12  EstimatedSalary  10000 non-null  float64\n",
            " 13  Exited           10000 non-null  int64  \n",
            "dtypes: float64(2), int64(9), object(3)\n",
            "memory usage: 1.1+ MB\n"
          ]
        }
      ],
      "source": [
        "df.info()"
      ]
    },
    {
      "cell_type": "code",
      "source": [
        "y1=df['Exited'].to_numpy()\n",
        "s=len(y1==1)/len(y1)\n",
        "s\n"
      ],
      "metadata": {
        "colab": {
          "base_uri": "https://localhost:8080/"
        },
        "id": "YfS14rML-4MK",
        "outputId": "347b281d-db68-4fac-f8f1-969dfa40015d"
      },
      "execution_count": null,
      "outputs": [
        {
          "output_type": "execute_result",
          "data": {
            "text/plain": [
              "1.0"
            ]
          },
          "metadata": {},
          "execution_count": 80
        }
      ]
    },
    {
      "cell_type": "code",
      "source": [
        "df['Exited'].value_counts()"
      ],
      "metadata": {
        "colab": {
          "base_uri": "https://localhost:8080/",
          "height": 178
        },
        "id": "biK6QE5yAl7W",
        "outputId": "20f7e4a7-d7ec-4c5f-a150-588b3b0a2fe9"
      },
      "execution_count": null,
      "outputs": [
        {
          "output_type": "execute_result",
          "data": {
            "text/plain": [
              "Exited\n",
              "0    7963\n",
              "1    2037\n",
              "Name: count, dtype: int64"
            ],
            "text/html": [
              "<div>\n",
              "<style scoped>\n",
              "    .dataframe tbody tr th:only-of-type {\n",
              "        vertical-align: middle;\n",
              "    }\n",
              "\n",
              "    .dataframe tbody tr th {\n",
              "        vertical-align: top;\n",
              "    }\n",
              "\n",
              "    .dataframe thead th {\n",
              "        text-align: right;\n",
              "    }\n",
              "</style>\n",
              "<table border=\"1\" class=\"dataframe\">\n",
              "  <thead>\n",
              "    <tr style=\"text-align: right;\">\n",
              "      <th></th>\n",
              "      <th>count</th>\n",
              "    </tr>\n",
              "    <tr>\n",
              "      <th>Exited</th>\n",
              "      <th></th>\n",
              "    </tr>\n",
              "  </thead>\n",
              "  <tbody>\n",
              "    <tr>\n",
              "      <th>0</th>\n",
              "      <td>7963</td>\n",
              "    </tr>\n",
              "    <tr>\n",
              "      <th>1</th>\n",
              "      <td>2037</td>\n",
              "    </tr>\n",
              "  </tbody>\n",
              "</table>\n",
              "</div><br><label><b>dtype:</b> int64</label>"
            ]
          },
          "metadata": {},
          "execution_count": 81
        }
      ]
    },
    {
      "cell_type": "code",
      "execution_count": null,
      "metadata": {
        "id": "Jjed8540Ti0s"
      },
      "outputs": [],
      "source": [
        "# 1. Drop unnecessary columns\n",
        "df = df.drop(columns=[\"RowNumber\", \"CustomerId\", \"Surname\"])"
      ]
    },
    {
      "cell_type": "code",
      "execution_count": null,
      "metadata": {
        "id": "EfpUpSQlTmn5"
      },
      "outputs": [],
      "source": [
        "# 2. Encode Gender\n",
        "gender_map = {\"Female\": 0, \"Male\": 1}\n",
        "df[\"Gender\"] = df[\"Gender\"].map(gender_map)"
      ]
    },
    {
      "cell_type": "code",
      "execution_count": null,
      "metadata": {
        "id": "ueWPa2yVTo6e"
      },
      "outputs": [],
      "source": [
        "# 3. One-hot encode Geography (drop France to avoid dummy trap)\n",
        "df = pd.get_dummies(df, columns=[\"Geography\"], drop_first=True)"
      ]
    },
    {
      "cell_type": "code",
      "execution_count": null,
      "metadata": {
        "id": "zGOXO-s4Trgs"
      },
      "outputs": [],
      "source": [
        "# 4. Define X and y\n",
        "X = df.drop(\"Exited\", axis=1).values\n",
        "y = df[\"Exited\"].values.reshape(-1, 1)"
      ]
    },
    {
      "cell_type": "code",
      "execution_count": null,
      "metadata": {
        "id": "xgYdSVsQWcJg"
      },
      "outputs": [],
      "source": [
        "#  Z-Score Normalize function\n",
        "def normalize(X):\n",
        "    X = np.array(X, dtype=np.float64)\n",
        "    mean = X.mean(axis=0)\n",
        "    std = X.std(axis=0)\n",
        "                                                #x-mean/std(z-score)\n",
        "    if np.isscalar(std):\n",
        "        std = np.full_like(mean, std)\n",
        "        std[std == 0] = 1e-8\n",
        "\n",
        "    return (X - mean) / std, mean, std\n",
        "\n",
        "# Normalize original X first!\n",
        "X, X_mean, X_std = normalize(X)"
      ]
    },
    {
      "cell_type": "code",
      "execution_count": null,
      "metadata": {
        "colab": {
          "base_uri": "https://localhost:8080/"
        },
        "id": "6f23NA84XECn",
        "outputId": "2ec24b45-cefb-44b3-891c-cfd5ea688849"
      },
      "outputs": [
        {
          "output_type": "execute_result",
          "data": {
            "text/plain": [
              "array([[-0.32622142, -1.09598752,  0.29351742, ...,  0.02188649,\n",
              "        -0.57873591, -0.57380915],\n",
              "       [-0.44003595, -1.09598752,  0.19816383, ...,  0.21653375,\n",
              "        -0.57873591,  1.74273971],\n",
              "       [-1.53679418, -1.09598752,  0.29351742, ...,  0.2406869 ,\n",
              "        -0.57873591, -0.57380915],\n",
              "       ...,\n",
              "       [ 0.60498839, -1.09598752, -0.27860412, ..., -1.00864308,\n",
              "        -0.57873591, -0.57380915],\n",
              "       [ 1.25683526,  0.91241915,  0.29351742, ..., -0.12523071,\n",
              "         1.72790383, -0.57380915],\n",
              "       [ 1.46377078, -1.09598752, -1.04143285, ..., -1.07636976,\n",
              "        -0.57873591, -0.57380915]])"
            ]
          },
          "metadata": {},
          "execution_count": 62
        }
      ],
      "source": [
        "X"
      ]
    },
    {
      "cell_type": "code",
      "execution_count": null,
      "metadata": {
        "colab": {
          "base_uri": "https://localhost:8080/"
        },
        "id": "awuW56oBXG29",
        "outputId": "39e6480a-8d5e-43e9-b4a2-393974518f90"
      },
      "outputs": [
        {
          "output_type": "execute_result",
          "data": {
            "text/plain": [
              "array([6.50528800e+02, 5.45700000e-01, 3.89218000e+01, 5.01280000e+00,\n",
              "       7.64858893e+04, 1.53020000e+00, 7.05500000e-01, 5.15100000e-01,\n",
              "       1.00090240e+05, 2.50900000e-01, 2.47700000e-01])"
            ]
          },
          "metadata": {},
          "execution_count": 63
        }
      ],
      "source": [
        "X_mean"
      ]
    },
    {
      "cell_type": "code",
      "execution_count": null,
      "metadata": {
        "colab": {
          "base_uri": "https://localhost:8080/"
        },
        "id": "AuibtxzhXLCT",
        "outputId": "91ceb2e7-1ec0-48e0-d4af-dc30a0bd11ef"
      },
      "outputs": [
        {
          "output_type": "execute_result",
          "data": {
            "text/plain": [
              "array([9.66484660e+01, 4.97907130e-01, 1.04872820e+01, 2.89202976e+00,\n",
              "       6.23942853e+04, 5.81625275e-01, 4.55817672e-01, 4.99771938e-01,\n",
              "       5.75076172e+04, 4.33531072e-01, 4.31676627e-01])"
            ]
          },
          "metadata": {},
          "execution_count": 64
        }
      ],
      "source": [
        "X_std"
      ]
    },
    {
      "cell_type": "code",
      "execution_count": null,
      "metadata": {
        "colab": {
          "base_uri": "https://localhost:8080/"
        },
        "id": "fPgOX1RrguxP",
        "outputId": "b7828103-d5b8-4085-f312-dd71897ddaf3"
      },
      "outputs": [
        {
          "output_type": "stream",
          "name": "stdout",
          "text": [
            " Train shape: (8000, 11)\n",
            " Test shape: (2000, 11)\n"
          ]
        }
      ],
      "source": [
        "# 7. Manual train-test split\n",
        "def train_test_split_manual(X, y, test_size=0.2, seed=42):\n",
        "    np.random.seed(seed)\n",
        "    indices = np.random.permutation(len(X))\n",
        "    test_size = int(len(X) * test_size)\n",
        "    test_indices = indices[:test_size]\n",
        "    train_indices = indices[test_size:]\n",
        "    return X[train_indices], X[test_indices], y[train_indices], y[test_indices]\n",
        "\n",
        "X_train, X_test, y_train, y_test = train_test_split_manual(X, y, test_size=0.2)\n",
        "\n",
        "# 8. Confirm final shapes\n",
        "print(\" Train shape:\", X_train.shape)\n",
        "print(\" Test shape:\", X_test.shape)\n"
      ]
    },
    {
      "cell_type": "code",
      "execution_count": null,
      "metadata": {
        "id": "iEw54yVKp4Em"
      },
      "outputs": [],
      "source": [
        "# --- Activations ---\n",
        "def linear(H):\n",
        "    return H\n",
        "\n",
        "def ReLU(H):\n",
        "    return H * (H > 0)\n",
        "\n",
        "def sigmoid(H):\n",
        "    return 1 / (1 + np.exp(-H))\n",
        "\n",
        "def softmax(H):\n",
        "    eH = np.exp(H)\n",
        "    return eH / eH.sum(axis=1, keepdims=True)"
      ]
    },
    {
      "cell_type": "code",
      "execution_count": null,
      "metadata": {
        "id": "cEC21XFxnaC5"
      },
      "outputs": [],
      "source": [
        "# --- Loss Functions ---\n",
        "def cross_entropy(Y, P_hat):\n",
        "    return -(1 / len(Y)) * np.sum(Y * np.log(P_hat))\n",
        "\n",
        "def OLS(Y, Y_hat):\n",
        "    return (1 / (2 * len(Y))) * np.sum((Y - Y_hat) ** 2)\n",
        "\n",
        "#Misc\n",
        "def one_hot(y):\n",
        "    N = len(y)\n",
        "    K = len(set(y))\n",
        "    Y = np.zeros((N, K))\n",
        "    for i in range(N):\n",
        "        Y[i, y[i]] = 1\n",
        "    return Y\n",
        "\n",
        "def accuracy(y, y_hat):\n",
        "    return np.mean(y == y_hat)\n",
        "\n",
        "def R2(y, y_hat):\n",
        "    return 1 - np.sum((y - y_hat) ** 2) / np.sum((y - y.mean()) ** 2)\n",
        "\n",
        "\n"
      ]
    },
    {
      "cell_type": "code",
      "execution_count": null,
      "metadata": {
        "id": "zlqAM2QKqFts"
      },
      "outputs": [],
      "source": [
        "#Derivation of activation function\n",
        "def derivative(Z, a):\n",
        "    if a == linear:\n",
        "        return 1\n",
        "    elif a == sigmoid:\n",
        "        return Z * (1 - Z)\n",
        "    elif a == np.tanh:\n",
        "        return 1 - Z * Z\n",
        "    elif a == ReLU:\n",
        "        return (Z > 0).astype(int)\n",
        "    else:\n",
        "        raise ValueError('Unknown activation function')"
      ]
    },
    {
      "cell_type": "code",
      "execution_count": null,
      "metadata": {
        "id": "qOPVLivwnctt"
      },
      "outputs": [],
      "source": [
        "class ANN():\n",
        "    def __init__(self, architecture, activations=None, mode=0):\n",
        "        self.mode = mode\n",
        "        self.architecture = architecture\n",
        "        self.activations = activations\n",
        "        self.L = len(architecture) + 1\n",
        "\n",
        "    def fit(self, X, y, eta=1e-3, epochs=10000, show_curve=True):\n",
        "        epochs = int(epochs)\n",
        "        if self.mode:\n",
        "            Y = y\n",
        "            K = 1\n",
        "        else:\n",
        "            Y = one_hot(y)\n",
        "            K = Y.shape[1]\n",
        "\n",
        "        N, D = X.shape\n",
        "\n",
        "        self.W = {l: np.random.randn(M[0], M[1]) for l, M in enumerate(zip(([D] + self.architecture), (self.architecture + [K])), 1)}\n",
        "        self.B = {l: np.random.randn(M) for l, M in enumerate(self.architecture + [K], 1)}\n",
        "\n",
        "        self.a = {l: act for l, act in enumerate(self.activations, 1)} if self.activations else {l: ReLU for l in range(1, self.L)}\n",
        "        #self.a[self.L] = linear if self.mode else softmax\n",
        "        self.a[self.L] = sigmoid if self.mode else softmax\n",
        "\n",
        "        J = np.zeros(epochs)\n",
        "        for epoch in range(epochs):\n",
        "            self.__forward__(X)\n",
        "            J[epoch] = OLS(Y, self.Z[self.L]) if self.mode else cross_entropy(Y, self.Z[self.L])\n",
        "\n",
        "            dH = (1 / N) * (self.Z[self.L] - Y)\n",
        "\n",
        "            for l in sorted(self.W.keys(), reverse=True):\n",
        "                dW = self.Z[l - 1].T @ dH\n",
        "                dB = dH.sum(axis=0)\n",
        "\n",
        "                self.W[l] -= eta * dW\n",
        "                self.B[l] -= eta * dB\n",
        "\n",
        "                if l > 1:\n",
        "                    dZ = dH @ self.W[l].T\n",
        "                    dH = dZ * derivative(self.Z[l - 1], self.a[l - 1])\n",
        "\n",
        "        if show_curve:\n",
        "            plt.plot(J)\n",
        "            plt.xlabel(\"Epochs\")\n",
        "            plt.ylabel(\"Loss\")\n",
        "            plt.title(\"Training Curve\")\n",
        "            plt.show()\n",
        "\n",
        "        return J\n",
        "\n",
        "    def __forward__(self, X):\n",
        "        self.Z = {0: X}\n",
        "        for l in sorted(self.W.keys()):\n",
        "            self.Z[l] = self.a[l](self.Z[l - 1] @ self.W[l] + self.B[l])\n",
        "\n",
        "    def predict(self, X):\n",
        "        self.__forward__(X)\n",
        "        return self.Z[self.L] if self.mode else self.Z[self.L].argmax(axis=1)\n"
      ]
    },
    {
      "cell_type": "code",
      "execution_count": null,
      "metadata": {
        "colab": {
          "base_uri": "https://localhost:8080/",
          "height": 489
        },
        "id": "lpeGGN4ohLoP",
        "outputId": "22cb65b8-67ce-4eda-a64e-c5a17e60ad46"
      },
      "outputs": [
        {
          "output_type": "display_data",
          "data": {
            "text/plain": [
              "<Figure size 640x480 with 1 Axes>"
            ],
            "image/png": "[encoded data removed]"
          },
          "metadata": {}
        },
        {
          "output_type": "stream",
          "name": "stdout",
          "text": [
            "Accuracy: 0.808\n"
          ]
        }
      ],
      "source": [
        "#ann = ANN(architecture=[10,6], activations=[np.tanh], mode=1)\n",
        "#ann.fit(X_train, y_train, eta=5e-3, epochs=1e4, show_curve=True)\n",
        " #my_ann_classifier.fit(X, y, eta=5e-3, epochs=1e4)\n",
        "\n",
        "ann = ANN(architecture=[10, 6], activations=[np.tanh, np.tanh], mode=1)\n",
        "ann.fit(X_train, y_train, eta=5e-3, epochs=10000, show_curve=True)\n",
        "\n",
        "\n",
        "y_pred = ann.predict(X_test)\n",
        "y_pred_binary = (y_pred >= 0.5).astype(int)\n",
        "print(\"Accuracy:\", accuracy(y_test, y_pred_binary))\n"
      ]
    },
    {
      "cell_type": "code",
      "execution_count": null,
      "metadata": {
        "id": "Nt4Rvko9Bi1w"
      },
      "outputs": [],
      "source": []
    },
    {
      "cell_type": "code",
      "execution_count": null,
      "metadata": {
        "id": "t2dYdeTxtugs"
      },
      "outputs": [],
      "source": []
    },
    {
      "cell_type": "code",
      "execution_count": null,
      "metadata": {
        "id": "A8b8N03BEWHP",
        "colab": {
          "base_uri": "https://localhost:8080/",
          "height": 87
        },
        "outputId": "6850ad84-84b6-4d25-d81a-928adb55cdc8"
      },
      "outputs": [
        {
          "output_type": "execute_result",
          "data": {
            "text/plain": [
              "'#my_ann_classifier = ANN(architecture=[6,4], activations=[np.tanh,ReLU])\\n    #my_ann_classifier = ANN(architecture=[10,7,6], activations=[np.tanh,ReLU])\\n    my_ann_classifier = ANN(architecture=[10,6], activations=[np.tanh,ReLU])\\n    #my_ann_classifier.fit(X, y, eta=1e-3, epochs=1e3)\\n    #my_ann_classifier.fit(X, y, eta=1e-3, epochs=1e4)\\n    #my_ann_classifier.fit(X, y, eta=2e-3, epochs=1e4)\\n    my_ann_classifier.fit(X, y, eta=5e-3, epochs=1e4)'"
            ],
            "application/vnd.google.colaboratory.intrinsic+json": {
              "type": "string"
            }
          },
          "metadata": {},
          "execution_count": 71
        }
      ],
      "source": [
        "'''#my_ann_classifier = ANN(architecture=[6,4], activations=[np.tanh,ReLU])\n",
        "    #my_ann_classifier = ANN(architecture=[10,7,6], activations=[np.tanh,ReLU])\n",
        "    my_ann_classifier = ANN(architecture=[10,6], activations=[np.tanh,ReLU])\n",
        "    #my_ann_classifier.fit(X, y, eta=1e-3, epochs=1e3)\n",
        "    #my_ann_classifier.fit(X, y, eta=1e-3, epochs=1e4)\n",
        "    #my_ann_classifier.fit(X, y, eta=2e-3, epochs=1e4)\n",
        "    my_ann_classifier.fit(X, y, eta=5e-3, epochs=1e4)'''"
      ]
    },
    {
      "cell_type": "code",
      "execution_count": null,
      "metadata": {
        "id": "o-TU59m6vcs-"
      },
      "outputs": [],
      "source": []
    },
    {
      "cell_type": "code",
      "execution_count": null,
      "metadata": {
        "id": "y8ugVyR3vfaI"
      },
      "outputs": [],
      "source": []
    },
    {
      "cell_type": "code",
      "execution_count": null,
      "metadata": {
        "id": "_Cs9RUJMviQM"
      },
      "outputs": [],
      "source": []
    },
    {
      "cell_type": "code",
      "source": [],
      "metadata": {
        "id": "Rv5UlGu_IvQV"
      },
      "execution_count": null,
      "outputs": []
    },
    {
      "cell_type": "code",
      "source": [],
      "metadata": {
        "id": "DJYL46FhI1Li"
      },
      "execution_count": null,
      "outputs": []
    }
  ],
  "metadata": {
    "colab": {
      "provenance": []
    },
    "kernelspec": {
      "display_name": "Python 3",
      "name": "python3"
    },
    "language_info": {
      "name": "python"
    }
  },
  "nbformat": 4,
  "nbformat_minor": 0
}